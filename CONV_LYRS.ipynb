{
 "cells": [
  {
   "cell_type": "markdown",
   "metadata": {},
   "source": [
    "# Importing libraries"
   ]
  },
  {
   "cell_type": "code",
   "execution_count": 2,
   "metadata": {},
   "outputs": [],
   "source": [
    "import numpy as np\n",
    "import matplotlib.pyplot as plt\n",
    "%matplotlib inline"
   ]
  },
  {
   "cell_type": "code",
   "execution_count": 3,
   "metadata": {},
   "outputs": [
    {
     "name": "stderr",
     "output_type": "stream",
     "text": [
      "C:\\Users\\Itachi Bal\\Anaconda3\\lib\\site-packages\\torch\\cuda\\__init__.py:52: UserWarning: CUDA initialization: Found no NVIDIA driver on your system. Please check that you have an NVIDIA GPU and installed a driver from http://www.nvidia.com/Download/index.aspx (Triggered internally at  ..\\c10\\cuda\\CUDAFunctions.cpp:100.)\n",
      "  return torch._C._cuda_getDeviceCount() > 0\n"
     ]
    }
   ],
   "source": [
    "from pandas import *\n",
    "import torch\n",
    "import torchvision\n",
    "import torch.nn as nn\n",
    "import torch.nn.functional as F\n",
    "import torch.optim as optim\n",
    "from torchvision import datasets, transforms\n",
    "from torch.autograd import Variable\n",
    "device = (\"cuda\" if torch.cuda.is_available() else \"cpu\")"
   ]
  },
  {
   "cell_type": "markdown",
   "metadata": {},
   "source": [
    "# Defining parameters"
   ]
  },
  {
   "cell_type": "code",
   "execution_count": 4,
   "metadata": {},
   "outputs": [],
   "source": [
    "epochs = 10\n",
    "batch_size_train = 100\n",
    "batch_size_test = 100\n",
    "learning_rate = 0.01\n",
    "momentum = 0.5\n"
   ]
  },
  {
   "cell_type": "markdown",
   "metadata": {},
   "source": [
    "#  Loading  and transforming the data"
   ]
  },
  {
   "cell_type": "code",
   "execution_count": 5,
   "metadata": {},
   "outputs": [],
   "source": [
    "transform = torchvision.transforms.Compose([ torchvision.transforms.ToTensor(), torchvision.transforms.Normalize( (0.1307,), (0.3081,)) ])\n",
    "train_set = datasets.MNIST(root='./data', train=True,download=True, transform=transform)\n",
    "train_loader = torch.utils.data.DataLoader(train_set, batch_size=100,shuffle=True, num_workers=2)\n",
    "\n",
    "test_set = datasets.MNIST(root='./data', train=False,download=True, transform=transform)\n",
    "test_loader = torch.utils.data.DataLoader(test_set, batch_size=100,shuffle=False, num_workers=2)\n"
   ]
  },
  {
   "cell_type": "markdown",
   "metadata": {},
   "source": [
    "# Displaying some random images"
   ]
  },
  {
   "cell_type": "markdown",
   "metadata": {},
   "source": [
    "Before displaying the images, I have Un-normalized the data and then plotted the random images"
   ]
  },
  {
   "cell_type": "code",
   "execution_count": 6,
   "metadata": {},
   "outputs": [
    {
     "data": {
      "image/png": "[encoded data removed]",
      "text/plain": [
       "<Figure size 432x288 with 4 Axes>"
      ]
     },
     "metadata": {
      "needs_background": "light"
     },
     "output_type": "display_data"
    }
   ],
   "source": [
    "train_loader\n",
    "dataiter = iter(train_loader)\n",
    "images, labels = dataiter.next()\n",
    "mn=images.view(100,28,28)\n",
    "mn.size()\n",
    "mnop=(mn*0.1307) + 0.3801 #unnormalize\n",
    "mnop.size()\n",
    "fig,a =  plt.subplots(2,2) # 2*2 subplots which can display 4 images\n",
    "a[0][0].imshow(mnop.numpy()[0], cmap='gray') # random image\n",
    "a[0][0].set_title(labels[0].numpy(),fontsize=50) # Original class of the random image \n",
    "a[0][1].imshow(mnop.numpy()[1], cmap='gray')\n",
    "a[0][1].set_title(labels[1].numpy(),fontsize=50)\n",
    "a[1][0].imshow(mnop.numpy()[2], cmap='gray')\n",
    "a[1][0].set_title(labels[2].numpy(),fontsize=50)\n",
    "a[1][1].imshow(mnop.numpy()[3], cmap='gray')\n",
    "a[1][1].set_title(labels[3].numpy(),fontsize=50)\n",
    "fig.tight_layout(pad=2.0)\n",
    "plt.show()"
   ]
  },
  {
   "cell_type": "markdown",
   "metadata": {},
   "source": [
    "# Defining the class "
   ]
  },
  {
   "cell_type": "code",
   "execution_count": 7,
   "metadata": {},
   "outputs": [],
   "source": [
    "class myCNN(nn.Module):\n",
    "    def __init__(self):\n",
    "        super(myCNN, self).__init__()\n",
    "        self.conv1 = nn.Conv2d(1, 32,kernel_size=2)\n",
    "        self.pool = nn.MaxPool2d(kernel_size=2) \n",
    "        self.fc1 = nn.Linear(5408, 128)\n",
    "        self.fc2 = nn.Linear(128, 10)\n",
    "        \n",
    "    def forward(self, x):\n",
    "        #x = self.pool(F.relu(self.conv1(x)))\n",
    "        self.features=F.relu(self.conv1(x))\n",
    "        x = self.pool(self.features)\n",
    "        x = x.view(x.size(0), -1)\n",
    "        # x = x.view(-1, numpy.product(x.shape))\n",
    "        x = self.fc1(x)\n",
    "        x = F.relu(x)\n",
    "        x = (self.fc2(x))\n",
    "        return x\n",
    "\n",
    "model = myCNN()\n",
    "\n",
    "optimizer = optim.SGD(model.parameters(), lr=0.01)\n",
    "#error = nn.CrossEntropyLoss()\n",
    "criterion= nn.CrossEntropyLoss()\n"
   ]
  },
  {
   "cell_type": "markdown",
   "metadata": {},
   "source": [
    "Here I have built the network with a convolutional layer and followed by a pooling layer(which uses max pooling mechanism).\n",
    "\n",
    "The outputs are then passed on to the linear layers which in the end produces 10 outputs.\n",
    "\n",
    "The activation functions used are RELU and softmax activations. Softmax activation is used to the final layer in the training of the model.\n",
    "\n",
    "Coming to the loss function and gradient functions, I have opted for cross entropy loss and stochastic gradient descent"
   ]
  },
  {
   "cell_type": "markdown",
   "metadata": {},
   "source": [
    "# Training & Testing\n"
   ]
  },
  {
   "cell_type": "code",
   "execution_count": 8,
   "metadata": {},
   "outputs": [],
   "source": [
    "epochs = 10\n",
    "loss_history_train=[] # contains losses of each batch that has been calculated\n",
    "loss_history_test=[]\n",
    "loss_per_100batch=[]# contains loss values for every 100 batches\n",
    "\n",
    "accuracy_train=[] # accuracy of training\n",
    "accuracy_total_train=[] # accuracy values of training after each epoch is stored\n",
    "\n",
    "accuracy_test=[] # accuracy of testing\n",
    "accuracy_total_test=[] # accuracy values of testing after each epoch is stored\n",
    "\n",
    "loss_total_train=[] # contains total loss after each epoch(training)\n",
    "loss_total_test=[] # contains total loss after each epoch(testing)"
   ]
  },
  {
   "cell_type": "code",
   "execution_count": 9,
   "metadata": {},
   "outputs": [
    {
     "name": "stdout",
     "output_type": "stream",
     "text": [
      "Epoch: 0/10   Training loss: 299.7767   Testing loss: 28.4626   Train accuracy: 0.8709   Test accuracy: 0.9186  \n",
      "Epoch: 1/10   Training loss: 158.9396   Testing loss: 23.1845   Train accuracy: 0.9225   Test accuracy: 0.9323  \n",
      "Epoch: 2/10   Training loss: 127.7025   Testing loss: 18.6434   Train accuracy: 0.9379   Test accuracy: 0.9469  \n",
      "Epoch: 3/10   Training loss: 105.8351   Testing loss: 15.6639   Train accuracy: 0.9488   Test accuracy: 0.9530  \n",
      "Epoch: 4/10   Training loss: 90.0594   Testing loss: 14.0380   Train accuracy: 0.9567   Test accuracy: 0.9595  \n",
      "Epoch: 5/10   Training loss: 77.9758   Testing loss: 12.2313   Train accuracy: 0.9625   Test accuracy: 0.9642  \n",
      "Epoch: 6/10   Training loss: 68.9441   Testing loss: 11.0506   Train accuracy: 0.9671   Test accuracy: 0.9678  \n",
      "Epoch: 7/10   Training loss: 61.4475   Testing loss: 10.1067   Train accuracy: 0.9706   Test accuracy: 0.9714  \n",
      "Epoch: 8/10   Training loss: 55.6233   Testing loss: 9.4142   Train accuracy: 0.9735   Test accuracy: 0.9721  \n",
      "Epoch: 9/10   Training loss: 50.6456   Testing loss: 8.6704   Train accuracy: 0.9759   Test accuracy: 0.9742  \n"
     ]
    }
   ],
   "source": [
    "for epoch in range(epochs):\n",
    "    model.train()\n",
    "    total = 0\n",
    "    loss_epoch_train=[]\n",
    "    # training our model\n",
    "    for idx, (image, label) in enumerate(train_loader):\n",
    "        image = Variable(image)\n",
    "        label = Variable(label)\n",
    "        optimizer.zero_grad() \n",
    "        pred = model(image) #predicting the classes\n",
    "        loss = criterion(pred, label)#calculating the losses for the appropriate batch\n",
    "        loss_history_train.append(loss.item()) # storing the loss values of every single batch\n",
    "        loss_epoch_train.append(loss.item())\n",
    "        loss.backward()\n",
    "        optimizer.step()\n",
    "\n",
    "        if idx % 100 == 0:\n",
    "            loss_per_100batch.append(loss.item()) # storing loss values after every 100 batches\n",
    "        for i, p in enumerate(pred): # calculating the no. of correct predictions and stroing them in total\n",
    "            if label[i] == torch.max(p.data, 0)[1]:\n",
    "                total = total + 1\n",
    "                \n",
    "    accuracy_train = total / len(train_set) #calculating accuracy after each epoch\n",
    "    accuracy_total_train.append(accuracy_train) #storing the accuracy values after each epoch\n",
    "    sum_loss_train=sum(loss_epoch_train) # total loss for an epoch\n",
    "    loss_total_train.append(sum_loss_train) # storing them after each epoch\n",
    "    \n",
    "    \n",
    "    # validating our model\n",
    "    model.eval()\n",
    "    total = 0\n",
    "    loss_epoch_test=[]\n",
    "    for idx, (image, label) in enumerate(test_loader):\n",
    "        \n",
    "        image = Variable(image)\n",
    "        label = Variable(label)\n",
    "        pred = model(image)\n",
    "        loss = criterion(pred, label)\n",
    "        loss_history_test.append(loss.item()) # total history of losses\n",
    "        loss_epoch_test.append(loss.item()) # storing losses of a single epoch\n",
    "        \n",
    "        for i, p in enumerate(pred):\n",
    "            if label[i] == torch.max(p.data, 0)[1]:\n",
    "                total = total + 1\n",
    "    \n",
    "    accuracy_test = total / len(test_set)\n",
    "    accuracy_total_test.append(accuracy_test)\n",
    "    sum_loss_test=sum(loss_epoch_test)\n",
    "    loss_total_test.append(sum_loss_test)\n",
    "\n",
    "    if epoch % 1 == 0:\n",
    "      print(\"Epoch: {}/{}  \".format(epoch, epochs),\n",
    "            \"Training loss: {:.4f}  \".format(sum_loss_train),\n",
    "            \"Testing loss: {:.4f}  \".format(sum_loss_test),\n",
    "            \"Train accuracy: {:.4f}  \".format(accuracy_train),\n",
    "            \"Test accuracy: {:.4f}  \".format(accuracy_test))\n",
    "\n"
   ]
  },
  {
   "cell_type": "markdown",
   "metadata": {},
   "source": [
    "According to the data above, we can infer that the model was overfit to the data in the early stages and slowly the fitness of the model improved towards the end. "
   ]
  },
  {
   "cell_type": "markdown",
   "metadata": {},
   "source": [
    "# Plotting the accuracies, Training vs Testing"
   ]
  },
  {
   "cell_type": "code",
   "execution_count": 19,
   "metadata": {},
   "outputs": [
    {
     "data": {
      "image/png": "[encoded data removed]",
      "text/plain": [
       "<Figure size 432x288 with 1 Axes>"
      ]
     },
     "metadata": {
      "needs_background": "light"
     },
     "output_type": "display_data"
    }
   ],
   "source": [
    "plt.plot(accuracy_total_train,label='training accuracy')\n",
    "plt.plot(accuracy_total_test,label='testing accuracy')\n",
    "plt.legend()\n",
    "plt.grid()"
   ]
  },
  {
   "cell_type": "markdown",
   "metadata": {},
   "source": [
    "# Defining a class for giving kernel size parameter in the constructer"
   ]
  },
  {
   "cell_type": "code",
   "execution_count": 9,
   "metadata": {},
   "outputs": [],
   "source": [
    "class myCNN(nn.Module):\n",
    "        def __init__(self,kernelSize):\n",
    "            super(myCNN, self).__init__()\n",
    "            self.conv1 = nn.Conv2d(1, 32,kernel_size=kernelSize)\n",
    "            self.pool = nn.MaxPool2d(kernel_size=2)\n",
    "            \n",
    "            self.fc1 = nn.Linear((((28-kernelSize)+1)//2)**2*32, 128)\n",
    "            self.fc2 = nn.Linear(128, 10)\n",
    "\n",
    "        def forward(self, x):\n",
    "            x = self.pool(F.relu(self.conv1(x)))\n",
    "            x = x.view(x.size(0), -1)\n",
    "            # x = x.view(-1, numpy.product(x.shape))\n",
    "            x = self.fc1(x)\n",
    "            x = F.relu(x)\n",
    "            x = self.fc2(x)\n",
    "            #x = F.softmax(self.fc2(x))\n",
    "            return x\n"
   ]
  },
  {
   "cell_type": "code",
   "execution_count": 10,
   "metadata": {},
   "outputs": [
    {
     "data": {
      "text/plain": [
       "myCNN(\n",
       "  (conv1): Conv2d(1, 32, kernel_size=(3, 3), stride=(1, 1))\n",
       "  (pool): MaxPool2d(kernel_size=2, stride=2, padding=0, dilation=1, ceil_mode=False)\n",
       "  (fc1): Linear(in_features=5408, out_features=128, bias=True)\n",
       "  (fc2): Linear(in_features=128, out_features=10, bias=True)\n",
       ")"
      ]
     },
     "execution_count": 10,
     "metadata": {},
     "output_type": "execute_result"
    }
   ],
   "source": [
    "model = myCNN(3) # example structure for kernel size 3\n",
    "model"
   ]
  },
  {
   "cell_type": "code",
   "execution_count": 11,
   "metadata": {
    "scrolled": false
   },
   "outputs": [
    {
     "name": "stdout",
     "output_type": "stream",
     "text": [
      "Epoch: 0/5   Training loss: 285.3313   Testing loss: 26.7213   Train accuracy: 0.8779   Test accuracy: 0.9239  \n",
      "Epoch: 1/5   Training loss: 146.2886   Testing loss: 21.3312   Train accuracy: 0.9287   Test accuracy: 0.9374  \n",
      "Epoch: 2/5   Training loss: 112.8854   Testing loss: 15.9010   Train accuracy: 0.9450   Test accuracy: 0.9540  \n",
      "Epoch: 3/5   Training loss: 90.8663   Testing loss: 13.3669   Train accuracy: 0.9563   Test accuracy: 0.9615  \n",
      "Epoch: 4/5   Training loss: 75.6556   Testing loss: 11.0874   Train accuracy: 0.9644   Test accuracy: 0.9674  \n",
      "Epoch: 0/5   Training loss: 285.7806   Testing loss: 24.8899   Train accuracy: 0.8767   Test accuracy: 0.9304  \n",
      "Epoch: 1/5   Training loss: 133.6376   Testing loss: 17.8541   Train accuracy: 0.9360   Test accuracy: 0.9497  \n",
      "Epoch: 2/5   Training loss: 98.7268   Testing loss: 13.9723   Train accuracy: 0.9534   Test accuracy: 0.9587  \n",
      "Epoch: 3/5   Training loss: 77.7619   Testing loss: 10.9356   Train accuracy: 0.9633   Test accuracy: 0.9679  \n",
      "Epoch: 4/5   Training loss: 63.4677   Testing loss: 9.6769   Train accuracy: 0.9700   Test accuracy: 0.9714  \n",
      "Epoch: 0/5   Training loss: 278.5013   Testing loss: 22.8265   Train accuracy: 0.8821   Test accuracy: 0.9351  \n",
      "Epoch: 1/5   Training loss: 121.6156   Testing loss: 15.4822   Train accuracy: 0.9419   Test accuracy: 0.9561  \n",
      "Epoch: 2/5   Training loss: 86.3910   Testing loss: 12.2962   Train accuracy: 0.9596   Test accuracy: 0.9656  \n",
      "Epoch: 3/5   Training loss: 66.7143   Testing loss: 9.4506   Train accuracy: 0.9686   Test accuracy: 0.9723  \n",
      "Epoch: 4/5   Training loss: 54.6977   Testing loss: 7.9842   Train accuracy: 0.9748   Test accuracy: 0.9762  \n"
     ]
    },
    {
     "data": {
      "image/png": "[encoded data removed]",
      "text/plain": [
       "<Figure size 432x288 with 1 Axes>"
      ]
     },
     "metadata": {
      "needs_background": "light"
     },
     "output_type": "display_data"
    },
    {
     "data": {
      "image/png": "[encoded data removed]",
      "text/plain": [
       "<Figure size 432x288 with 1 Axes>"
      ]
     },
     "metadata": {
      "needs_background": "light"
     },
     "output_type": "display_data"
    },
    {
     "data": {
      "image/png": "[encoded data removed]",
      "text/plain": [
       "<Figure size 432x288 with 1 Axes>"
      ]
     },
     "metadata": {
      "needs_background": "light"
     },
     "output_type": "display_data"
    }
   ],
   "source": [
    "kernelSizes=[3,4,5]\n",
    "\n",
    "for kernelSize in kernelSizes:\n",
    "    \n",
    "    model = myCNN(kernelSize)\n",
    "\n",
    "    optimizer = optim.SGD(model.parameters(), lr=0.01)\n",
    "    criterion= nn.CrossEntropyLoss()\n",
    "    \n",
    "    epochs = 5\n",
    "    loss_history_train=[] # contains losses of each batch that has been calculated\n",
    "    loss_history_test=[]\n",
    "    loss_per_100batch=[]# contains loss values for every 100 batches\n",
    "\n",
    "    accuracy_train=[] # accuracy of training\n",
    "    accuracy_total_train=[] # accuracy values of training after each epoch is stored\n",
    "\n",
    "    accuracy_test=[] # accuracy of testing\n",
    "    accuracy_total_test=[] # accuracy values of testing after each epoch is stored\n",
    "\n",
    "    loss_total_train=[] # contains total loss after each epoch(training)\n",
    "    loss_total_test=[] # contains total loss after each epoch(testing)\n",
    "    for epoch in range(epochs):\n",
    "        model.train()\n",
    "        total = 0\n",
    "        loss_epoch_train=[]\n",
    "        # training our model\n",
    "        for idx, (image, label) in enumerate(train_loader):\n",
    "            image = Variable(image)\n",
    "            label = Variable(label)\n",
    "            optimizer.zero_grad() \n",
    "            pred = model(image) #predicting the classes\n",
    "            loss = criterion(pred, label)#calculating the losses for the appropriate batch\n",
    "            loss_history_train.append(loss.item()) # storing the loss values of every single batch\n",
    "            loss_epoch_train.append(loss.item())\n",
    "            loss.backward()\n",
    "            optimizer.step()\n",
    "    \n",
    "            if idx % 100 == 0:\n",
    "                loss_per_100batch.append(loss.item()) # storing loss values after every 100 batches\n",
    "            for i, p in enumerate(pred): # calculating the no. of correct predictions and stroing them in total\n",
    "                if label[i] == torch.max(p.data, 0)[1]:\n",
    "                    total = total + 1\n",
    "                    \n",
    "        accuracy_train = total / len(train_set) #calculating accuracy after each epoch\n",
    "        accuracy_total_train.append(accuracy_train) #storing the accuracy values after each epoch\n",
    "        sum_loss_train=sum(loss_epoch_train) # total loss for an epoch\n",
    "        loss_total_train.append(sum_loss_train) # storing them after each epoch\n",
    "        \n",
    "        \n",
    "        # validating our model\n",
    "        model.eval()\n",
    "        total = 0\n",
    "        loss_epoch_test=[]\n",
    "        for idx, (image, label) in enumerate(test_loader):\n",
    "            \n",
    "            image = Variable(image)\n",
    "            label = Variable(label)\n",
    "            pred = model(image)\n",
    "            loss = criterion(pred, label)\n",
    "            loss_history_test.append(loss.item()) # total history of losses\n",
    "            loss_epoch_test.append(loss.item()) # storing losses of a single epoch\n",
    "            \n",
    "            for i, p in enumerate(pred):\n",
    "                if label[i] == torch.max(p.data, 0)[1]:\n",
    "                    total = total + 1\n",
    "        \n",
    "        accuracy_test = total / len(test_set)\n",
    "        accuracy_total_test.append(accuracy_test)\n",
    "        sum_loss_test=sum(loss_epoch_test)\n",
    "        loss_total_test.append(sum_loss_test)\n",
    "    \n",
    "        if epoch % 1 == 0:\n",
    "          print(\"Epoch: {}/{}  \".format(epoch, epochs),\n",
    "                \"Training loss: {:.4f}  \".format(sum_loss_train),\n",
    "                \"Testing loss: {:.4f}  \".format(sum_loss_test),\n",
    "                \"Train accuracy: {:.4f}  \".format(accuracy_train),\n",
    "                \"Test accuracy: {:.4f}  \".format(accuracy_test))    \n",
    "    plt.figure()\n",
    "    plt.plot(accuracy_total_train,'k')\n",
    "    plt.plot(accuracy_total_test,'r')\n",
    "    plt.title(\"Kernel size: \"+str(kernelSize))"
   ]
  },
  {
   "cell_type": "raw",
   "metadata": {},
   "source": [
    "Compare the plots from above and explain which kernel size worked best"
   ]
  },
  {
   "cell_type": "raw",
   "metadata": {},
   "source": [
    "\n",
    "\n",
    "The model with kernel size of 5 has given better accuracy and has accounted for less loss. It may be because the model with kernel size of 5 is better at recognizing the edges and shapes than the other kernels. Moreover, kernel size of 4 has also performed when compared to models of sizes(kernel) 2 and 3."
   ]
  },
  {
   "cell_type": "raw",
   "metadata": {},
   "source": [
    "Now pick a random image and pipe it through your trained CNN\n",
    "extract the output of the convolutional layer for each output channel and visualize that as an image\n",
    "Observe that the template CNN has a self.features variable ... that might help here"
   ]
  },
  {
   "cell_type": "code",
   "execution_count": 44,
   "metadata": {},
   "outputs": [
    {
     "data": {
      "text/plain": [
       "torch.Size([1, 32, 27, 27])"
      ]
     },
     "execution_count": 44,
     "metadata": {},
     "output_type": "execute_result"
    }
   ],
   "source": [
    "model.features.size()"
   ]
  },
  {
   "cell_type": "markdown",
   "metadata": {},
   "source": [
    "# Predicting random image"
   ]
  },
  {
   "cell_type": "code",
   "execution_count": 45,
   "metadata": {},
   "outputs": [
    {
     "data": {
      "text/plain": [
       "tensor([[ 0.7457, -1.4423,  0.7690, -4.5332,  1.9178,  3.5258,  8.5685, -7.3969,\n",
       "          0.0711, -2.2973]], grad_fn=<AddmmBackward>)"
      ]
     },
     "execution_count": 45,
     "metadata": {},
     "output_type": "execute_result"
    }
   ],
   "source": [
    "model(images[1].view(1,1,28,28))"
   ]
  },
  {
   "cell_type": "markdown",
   "metadata": {},
   "source": [
    "# Originial Image "
   ]
  },
  {
   "cell_type": "code",
   "execution_count": 67,
   "metadata": {},
   "outputs": [
    {
     "data": {
      "text/plain": [
       "<matplotlib.image.AxesImage at 0x202165e3cf8>"
      ]
     },
     "execution_count": 67,
     "metadata": {},
     "output_type": "execute_result"
    },
    {
     "data": {
      "image/png": "[encoded data removed]",
      "text/plain": [
       "<Figure size 432x288 with 1 Axes>"
      ]
     },
     "metadata": {
      "needs_background": "light"
     },
     "output_type": "display_data"
    }
   ],
   "source": [
    "plt.imshow(images[1].view(28,28), cmap='gray')"
   ]
  },
  {
   "cell_type": "markdown",
   "metadata": {},
   "source": [
    "# Converting tensor to numpy array"
   ]
  },
  {
   "cell_type": "code",
   "execution_count": 78,
   "metadata": {},
   "outputs": [
    {
     "data": {
      "text/plain": [
       "<matplotlib.image.AxesImage at 0x202168cecf8>"
      ]
     },
     "execution_count": 78,
     "metadata": {},
     "output_type": "execute_result"
    },
    {
     "data": {
      "image/png": "[encoded data removed]",
      "text/plain": [
       "<Figure size 432x288 with 1 Axes>"
      ]
     },
     "metadata": {
      "needs_background": "light"
     },
     "output_type": "display_data"
    }
   ],
   "source": [
    "plt.imshow(model.features[0][1].cpu().detach().numpy(), cmap='gray')\n",
    "#plt.imshow(model.features.numpy()[0][1], cmap='gray')"
   ]
  },
  {
   "cell_type": "code",
   "execution_count": 79,
   "metadata": {},
   "outputs": [
    {
     "data": {
      "text/plain": [
       "<matplotlib.image.AxesImage at 0x20216503940>"
      ]
     },
     "execution_count": 79,
     "metadata": {},
     "output_type": "execute_result"
    },
    {
     "data": {
      "image/png": "[encoded data removed]",
      "text/plain": [
       "<Figure size 432x288 with 1 Axes>"
      ]
     },
     "metadata": {
      "needs_background": "light"
     },
     "output_type": "display_data"
    }
   ],
   "source": [
    "plt.imshow(model.features[0][2].cpu().detach().numpy(), cmap='gray')\n"
   ]
  },
  {
   "cell_type": "code",
   "execution_count": 80,
   "metadata": {},
   "outputs": [
    {
     "data": {
      "text/plain": [
       "<matplotlib.image.AxesImage at 0x20215a078d0>"
      ]
     },
     "execution_count": 80,
     "metadata": {},
     "output_type": "execute_result"
    },
    {
     "data": {
      "image/png": "[encoded data removed]",
      "text/plain": [
       "<Figure size 432x288 with 1 Axes>"
      ]
     },
     "metadata": {
      "needs_background": "light"
     },
     "output_type": "display_data"
    }
   ],
   "source": [
    "plt.imshow(model.features[0][3].cpu().detach().numpy(), cmap='gray')\n"
   ]
  },
  {
   "cell_type": "code",
   "execution_count": 81,
   "metadata": {},
   "outputs": [
    {
     "data": {
      "text/plain": [
       "<matplotlib.image.AxesImage at 0x20215522518>"
      ]
     },
     "execution_count": 81,
     "metadata": {},
     "output_type": "execute_result"
    },
    {
     "data": {
      "image/png": "[encoded data removed]",
      "text/plain": [
       "<Figure size 432x288 with 1 Axes>"
      ]
     },
     "metadata": {
      "needs_background": "light"
     },
     "output_type": "display_data"
    }
   ],
   "source": [
    "plt.imshow(model.features[0][4].cpu().detach().numpy(), cmap='gray')\n"
   ]
  },
  {
   "cell_type": "code",
   "execution_count": 82,
   "metadata": {},
   "outputs": [
    {
     "data": {
      "text/plain": [
       "<matplotlib.image.AxesImage at 0x20217597908>"
      ]
     },
     "execution_count": 82,
     "metadata": {},
     "output_type": "execute_result"
    },
    {
     "data": {
      "image/png": "[encoded data removed]",
      "text/plain": [
       "<Figure size 432x288 with 1 Axes>"
      ]
     },
     "metadata": {
      "needs_background": "light"
     },
     "output_type": "display_data"
    }
   ],
   "source": [
    "plt.imshow(model.features[0][5].cpu().detach().numpy(), cmap='gray')\n"
   ]
  },
  {
   "cell_type": "code",
   "execution_count": 83,
   "metadata": {},
   "outputs": [
    {
     "data": {
      "text/plain": [
       "<matplotlib.image.AxesImage at 0x2021760a780>"
      ]
     },
     "execution_count": 83,
     "metadata": {},
     "output_type": "execute_result"
    },
    {
     "data": {
      "image/png": "[encoded data removed]",
      "text/plain": [
       "<Figure size 432x288 with 1 Axes>"
      ]
     },
     "metadata": {
      "needs_background": "light"
     },
     "output_type": "display_data"
    }
   ],
   "source": [
    "plt.imshow(model.features[0][6].cpu().detach().numpy(), cmap='gray')\n"
   ]
  },
  {
   "cell_type": "raw",
   "metadata": {},
   "source": [
    "Can you guess the feature that each channel extracted? "
   ]
  },
  {
   "cell_type": "raw",
   "metadata": {},
   "source": [
    " Some of the features were able to be recognized and some are not. "
   ]
  }
 ],
 "metadata": {
  "kernelspec": {
   "display_name": "Python 3",
   "language": "python",
   "name": "python3"
  },
  "language_info": {
   "codemirror_mode": {
    "name": "ipython",
    "version": 3
   },
   "file_extension": ".py",
   "mimetype": "text/x-python",
   "name": "python",
   "nbconvert_exporter": "python",
   "pygments_lexer": "ipython3",
   "version": "3.7.3"
  }
 },
 "nbformat": 4,
 "nbformat_minor": 4
}
